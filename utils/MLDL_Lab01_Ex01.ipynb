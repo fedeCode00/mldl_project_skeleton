{
  "cells": [
    {
      "cell_type": "markdown",
      "metadata": {
        "id": "AzDBM_v4iMe7"
      },
      "source": [
        "# PyTorch Fundamentals Exercises\n",
        "\n",
        "\n"
      ]
    },
    {
      "cell_type": "markdown",
      "metadata": {
        "id": "__iXqqz-ioUJ"
      },
      "source": [
        "### 2. Create a random tensor with shape `(7, 7)`.\n"
      ]
    },
    {
      "cell_type": "code",
      "execution_count": 3,
      "metadata": {
        "id": "6pUq9Dc8i2L7",
        "outputId": "0f655501-8dc4-435a-e8b2-9ba7d2a9b302",
        "colab": {
          "base_uri": "https://localhost:8080/"
        }
      },
      "outputs": [
        {
          "output_type": "stream",
          "name": "stdout",
          "text": [
            "Random Tensor tensor([[0.1617, 0.2227, 0.5891, 0.8301, 0.3410, 0.4013, 0.9018],\n",
            "        [0.5875, 0.9391, 0.9447, 0.6825, 0.7848, 0.1450, 0.8846],\n",
            "        [0.9752, 0.4254, 0.7497, 0.7953, 0.7117, 0.7866, 0.4868],\n",
            "        [0.6512, 0.9864, 0.6324, 0.6081, 0.1977, 0.1901, 0.3149],\n",
            "        [0.5682, 0.1472, 0.1774, 0.2036, 0.6820, 0.5909, 0.0941],\n",
            "        [0.7573, 0.4065, 0.9695, 0.2450, 0.9866, 0.6615, 0.1458],\n",
            "        [0.2833, 0.3405, 0.7367, 0.5010, 0.6834, 0.7469, 0.3337]])\n",
            "\n",
            "Shape of tensor: torch.Size([7, 7])\n",
            "\n",
            "Datatype of tensor: torch.float32\n",
            "\n",
            "Device tensor in stored on: cpu\n",
            "\n"
          ]
        }
      ],
      "source": [
        "# Import torch\n",
        "import torch\n",
        "\n",
        "# Create random tensor\n",
        "tensor = torch.rand(7,7)\n",
        "print(f\"Random Tensor {tensor}\\n\")\n",
        "\n",
        "print(f\"Shape of tensor: {tensor.shape}\\n\")\n",
        "print(f\"Datatype of tensor: {tensor.dtype}\\n\")\n",
        "print(f\"Device tensor in stored on: {tensor.device}\\n\")"
      ]
    },
    {
      "cell_type": "markdown",
      "metadata": {
        "id": "9-XxvRLfiqkR"
      },
      "source": [
        "### 3. Perform a matrix multiplication on the tensor from 2 with another random tensor with shape `(1, 7)` (hint: you may have to transpose the second tensor)."
      ]
    },
    {
      "cell_type": "markdown",
      "source": [],
      "metadata": {
        "id": "JoVZ46X4kT8n"
      }
    },
    {
      "cell_type": "code",
      "execution_count": 4,
      "metadata": {
        "id": "NcLqR0Sbi_vT",
        "outputId": "83b3294b-6f9f-4118-9780-ed1dba57e250",
        "colab": {
          "base_uri": "https://localhost:8080/"
        }
      },
      "outputs": [
        {
          "output_type": "execute_result",
          "data": {
            "text/plain": [
              "tensor([[1.7751],\n",
              "        [2.6720],\n",
              "        [2.8176],\n",
              "        [1.9928],\n",
              "        [1.4638],\n",
              "        [2.1845],\n",
              "        [1.7623]])"
            ]
          },
          "metadata": {},
          "execution_count": 4
        }
      ],
      "source": [
        "# Create another random tensor\n",
        "\n",
        "tensor2 = torch.rand(1,7)\n",
        "\n",
        "# Perform matrix multiplication\n",
        "torch.matmul(tensor, tensor2.T)\n"
      ]
    },
    {
      "cell_type": "markdown",
      "metadata": {
        "id": "eiutdKUFiryU"
      },
      "source": [
        "### 4. Set the random seed to `0` and do 2 & 3 over again.\n",
        "\n",
        "The output should be:\n",
        "```\n",
        "(tensor([[1.8542],\n",
        "         [1.9611],\n",
        "         [2.2884],\n",
        "         [3.0481],\n",
        "         [1.7067],\n",
        "         [2.5290],\n",
        "         [1.7989]]), torch.Size([7, 1]))\n",
        "```"
      ]
    },
    {
      "cell_type": "code",
      "execution_count": 6,
      "metadata": {
        "id": "D-lOWI_1jRMm",
        "outputId": "ced3aa02-12a5-4492-edd2-3d1d084697d8",
        "colab": {
          "base_uri": "https://localhost:8080/"
        }
      },
      "outputs": [
        {
          "output_type": "execute_result",
          "data": {
            "text/plain": [
              "tensor([[1.8542],\n",
              "        [1.9611],\n",
              "        [2.2884],\n",
              "        [3.0481],\n",
              "        [1.7067],\n",
              "        [2.5290],\n",
              "        [1.7989]])"
            ]
          },
          "metadata": {},
          "execution_count": 6
        }
      ],
      "source": [
        "# Set manual seed\n",
        "torch.manual_seed(0)\n",
        "\n",
        "# Create two random tensors\n",
        "tensor = torch.rand(7,7)\n",
        "tensor2 = torch.rand(1,7)\n",
        "\n",
        "# Matrix multiply tensors\n",
        "torch.matmul(tensor, tensor2.T)"
      ]
    },
    {
      "cell_type": "markdown",
      "metadata": {
        "id": "ezY6ks9Cis37"
      },
      "source": [
        "### 5. Speaking of random seeds, we saw how to set it with `torch.manual_seed()` but is there a GPU equivalent? (hint: you'll need to look into the documentation for `torch.cuda` for this one)\n",
        "  * If there is, set the GPU random seed to `1234`."
      ]
    },
    {
      "cell_type": "code",
      "execution_count": 7,
      "metadata": {
        "id": "_LKWcfSTjp00"
      },
      "outputs": [],
      "source": [
        "# Set random seed on the GPU\n",
        "torch.cuda.manual_seed(1234)"
      ]
    },
    {
      "cell_type": "markdown",
      "metadata": {
        "id": "Ir9qSaj6it4n"
      },
      "source": [
        "\n",
        "### 6. Create two random tensors of shape `(2, 3)` and send them both to the GPU (you'll need access to a GPU for this). Set `torch.manual_seed(1234)` when creating the tensors (this doesn't have to be the GPU random seed). The output should be something like:\n",
        "\n",
        "```\n",
        "Device: cuda\n",
        "(tensor([[0.0290, 0.4019, 0.2598],\n",
        "         [0.3666, 0.0583, 0.7006]], device='cuda:0'),\n",
        " tensor([[0.0518, 0.4681, 0.6738],\n",
        "         [0.3315, 0.7837, 0.5631]], device='cuda:0'))\n",
        "```"
      ]
    },
    {
      "cell_type": "code",
      "execution_count": 12,
      "metadata": {
        "id": "azXExiFZj5nm",
        "colab": {
          "base_uri": "https://localhost:8080/"
        },
        "outputId": "bcdbdebf-3e4b-44c8-b9bd-67825e41b582"
      },
      "outputs": [
        {
          "output_type": "stream",
          "name": "stdout",
          "text": [
            "tensor([[0.0290, 0.4019, 0.2598],\n",
            "        [0.3666, 0.0583, 0.7006]], device='cuda:0')\n",
            "tensor([[0.0518, 0.4681, 0.6738],\n",
            "        [0.3315, 0.7837, 0.5631]], device='cuda:0')\n"
          ]
        }
      ],
      "source": [
        "# Set random seed\n",
        "torch.manual_seed(1234)\n",
        "\n",
        "# Check for access to GPU\n",
        "if torch.cuda.is_available():\n",
        "\n",
        "    # Create two random tensors on GPU\n",
        "    tensor3 = torch.rand(2,3).to(\"cuda\")\n",
        "    tensor4 = torch.rand(2,3).to(\"cuda\")\n",
        "\n",
        "print(tensor)\n",
        "print(tensor2)"
      ]
    },
    {
      "cell_type": "markdown",
      "metadata": {
        "id": "5TlAxeiSiu1y"
      },
      "source": [
        "\n",
        "### 7. Perform a matrix multiplication on the tensors you created in 6 (again, you may have to adjust the shapes of one of the tensors).\n",
        "\n",
        "The output should look like:\n",
        "```\n",
        "(tensor([[0.3647, 0.4709],\n",
        "         [0.5184, 0.5617]], device='cuda:0'), torch.Size([2, 2]))\n",
        "```"
      ]
    },
    {
      "cell_type": "code",
      "execution_count": 14,
      "metadata": {
        "id": "fAeG7ox0lHEO",
        "outputId": "128c76a2-6c1c-46fa-b6ed-ff537508c014",
        "colab": {
          "base_uri": "https://localhost:8080/"
        }
      },
      "outputs": [
        {
          "output_type": "stream",
          "name": "stdout",
          "text": [
            "tensor([[0.3647, 0.4709],\n",
            "        [0.5184, 0.5617]], device='cuda:0')\n",
            "torch.Size([2, 2])\n"
          ]
        }
      ],
      "source": [
        "# Perform matmul on tensor_A and tensor_B\n",
        "mult = torch.matmul(tensor3, tensor4.T)\n",
        "print(mult)\n",
        "print(mult.shape)"
      ]
    },
    {
      "cell_type": "markdown",
      "metadata": {
        "id": "G7qfa5CSivwg"
      },
      "source": [
        "### 8. Find the maximum and minimum values of the output of 7."
      ]
    },
    {
      "cell_type": "code",
      "execution_count": 16,
      "metadata": {
        "id": "Fu8_3mZpllOd",
        "outputId": "a795d020-3124-4095-943c-f17c764e14e4",
        "colab": {
          "base_uri": "https://localhost:8080/"
        }
      },
      "outputs": [
        {
          "output_type": "stream",
          "name": "stdout",
          "text": [
            "tensor(0.5617, device='cuda:0')\n",
            "tensor(0.3647, device='cuda:0')\n"
          ]
        }
      ],
      "source": [
        "# Find max\n",
        "print(mult.max())\n",
        "\n",
        "# Find min\n",
        "print(mult.min())"
      ]
    },
    {
      "cell_type": "markdown",
      "metadata": {
        "id": "wrTj5FgNiw47"
      },
      "source": [
        "### 9. Find the maximum and minimum index values of the output of 7."
      ]
    },
    {
      "cell_type": "code",
      "execution_count": 17,
      "metadata": {
        "id": "CCEKt4K2lsfQ",
        "outputId": "22fc7e52-b4cc-493a-d7fd-c621c635e1d1",
        "colab": {
          "base_uri": "https://localhost:8080/"
        }
      },
      "outputs": [
        {
          "output_type": "stream",
          "name": "stdout",
          "text": [
            "tensor(3, device='cuda:0')\n",
            "tensor(0, device='cuda:0')\n"
          ]
        }
      ],
      "source": [
        "# Find arg max\n",
        "print(mult.argmax())\n",
        "\n",
        "# Find arg min\n",
        "print(mult.argmin())"
      ]
    },
    {
      "cell_type": "markdown",
      "metadata": {
        "id": "hmeybz4uixy7"
      },
      "source": [
        "\n",
        "### 10. Make a random tensor with shape `(1, 1, 1, 10)` and then create a new tensor with all the `1` dimensions removed to be left with a tensor of shape `(10)`. Set the seed to `7` when you create it and print out the first tensor and it's shape as well as the second tensor and it's shape.\n",
        "\n",
        "The output should look like:\n",
        "\n",
        "```\n",
        "tensor([[[[0.5349, 0.1988, 0.6592, 0.6569, 0.2328, 0.4251, 0.2071, 0.6297,\n",
        "           0.3653, 0.8513]]]]) torch.Size([1, 1, 1, 10])\n",
        "tensor([0.5349, 0.1988, 0.6592, 0.6569, 0.2328, 0.4251, 0.2071, 0.6297, 0.3653,\n",
        "        0.8513]) torch.Size([10])\n",
        "```"
      ]
    },
    {
      "cell_type": "code",
      "execution_count": 18,
      "metadata": {
        "id": "TQ9zbRzVl1jV",
        "outputId": "dd8de22e-0e51-416d-a28f-0a5b38c95d04",
        "colab": {
          "base_uri": "https://localhost:8080/"
        }
      },
      "outputs": [
        {
          "output_type": "stream",
          "name": "stdout",
          "text": [
            "tensor([[[[0.5349, 0.1988, 0.6592, 0.6569, 0.2328, 0.4251, 0.2071, 0.6297,\n",
            "           0.3653, 0.8513]]]]) torch.Size([1, 1, 1, 10])\n",
            "tensor([0.5349, 0.1988, 0.6592, 0.6569, 0.2328, 0.4251, 0.2071, 0.6297, 0.3653,\n",
            "        0.8513]) torch.Size([10])\n"
          ]
        }
      ],
      "source": [
        "# Set seed\n",
        "torch.manual_seed(7)\n",
        "\n",
        "# Create random tensor\n",
        "tensor5 = torch.rand(1,1,1,10)\n",
        "\n",
        "# Remove single dimensions\n",
        "tensor6 = tensor5.squeeze()\n",
        "\n",
        "# Print out tensors and their shapes\n",
        "print(tensor5, tensor5.shape)\n",
        "print(tensor6, tensor6.shape)"
      ]
    },
    {
      "cell_type": "code",
      "source": [],
      "metadata": {
        "id": "kxP2LvIOK2Fp"
      },
      "execution_count": null,
      "outputs": []
    }
  ],
  "metadata": {
    "accelerator": "GPU",
    "colab": {
      "provenance": []
    },
    "kernelspec": {
      "display_name": "Python 3 (ipykernel)",
      "language": "python",
      "name": "python3"
    },
    "language_info": {
      "codemirror_mode": {
        "name": "ipython",
        "version": 3
      },
      "file_extension": ".py",
      "mimetype": "text/x-python",
      "name": "python",
      "nbconvert_exporter": "python",
      "pygments_lexer": "ipython3",
      "version": "3.9.16"
    }
  },
  "nbformat": 4,
  "nbformat_minor": 0
}